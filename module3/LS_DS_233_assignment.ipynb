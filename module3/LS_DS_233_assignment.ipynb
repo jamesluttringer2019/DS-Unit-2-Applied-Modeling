{
  "nbformat": 4,
  "nbformat_minor": 0,
  "metadata": {
    "colab": {
      "name": "Copy of assignment_applied_modeling_2.ipynb",
      "provenance": [],
      "collapsed_sections": [],
      "include_colab_link": true
    },
    "kernelspec": {
      "display_name": "Python 3",
      "language": "python",
      "name": "python3"
    },
    "language_info": {
      "codemirror_mode": {
        "name": "ipython",
        "version": 3
      },
      "file_extension": ".py",
      "mimetype": "text/x-python",
      "name": "python",
      "nbconvert_exporter": "python",
      "pygments_lexer": "ipython3",
      "version": "3.7.3"
    }
  },
  "cells": [
    {
      "cell_type": "markdown",
      "metadata": {
        "id": "view-in-github",
        "colab_type": "text"
      },
      "source": [
        "<a href=\"https://colab.research.google.com/github/jamesluttringer2019/DS-Unit-2-Applied-Modeling/blob/master/module3/LS_DS_233_assignment.ipynb\" target=\"_parent\"><img src=\"https://colab.research.google.com/assets/colab-badge.svg\" alt=\"Open In Colab\"/></a>"
      ]
    },
    {
      "cell_type": "markdown",
      "metadata": {
        "colab_type": "text",
        "id": "nCc3XZEyG3XV"
      },
      "source": [
        "Lambda School Data Science\n",
        "\n",
        "*Unit 2, Sprint 3, Module 3*\n",
        "\n",
        "---\n",
        "\n",
        "\n",
        "# Permutation & Boosting\n",
        "\n",
        "You will use your portfolio project dataset for all assignments this sprint.\n",
        "\n",
        "## Assignment\n",
        "\n",
        "Complete these tasks for your project, and document your work.\n",
        "\n",
        "- [ ] If you haven't completed assignment #1, please do so first.\n",
        "- [ ] Continue to clean and explore your data. Make exploratory visualizations.\n",
        "- [ ] Fit a model. Does it beat your baseline? \n",
        "- [ ] Try xgboost.\n",
        "- [ ] Get your model's permutation importances.\n",
        "\n",
        "You should try to complete an initial model today, because the rest of the week, we're making model interpretation visualizations.\n",
        "\n",
        "But, if you aren't ready to try xgboost and permutation importances with your dataset today, that's okay. You can practice with another dataset instead. You may choose any dataset you've worked with previously.\n",
        "\n",
        "The data subdirectory includes the Titanic dataset for classification and the NYC apartments dataset for regression. You may want to choose one of these datasets, because example solutions will be available for each.\n",
        "\n",
        "\n",
        "## Reading\n",
        "\n",
        "Top recommendations in _**bold italic:**_\n",
        "\n",
        "#### Permutation Importances\n",
        "- _**[Kaggle / Dan Becker: Machine Learning Explainability](https://www.kaggle.com/dansbecker/permutation-importance)**_\n",
        "- [Christoph Molnar: Interpretable Machine Learning](https://christophm.github.io/interpretable-ml-book/feature-importance.html)\n",
        "\n",
        "#### (Default) Feature Importances\n",
        "  - [Ando Saabas: Selecting good features, Part 3, Random Forests](https://blog.datadive.net/selecting-good-features-part-iii-random-forests/)\n",
        "  - [Terence Parr, et al: Beware Default Random Forest Importances](https://explained.ai/rf-importance/index.html)\n",
        "\n",
        "#### Gradient Boosting\n",
        "  - [A Gentle Introduction to the Gradient Boosting Algorithm for Machine Learning](https://machinelearningmastery.com/gentle-introduction-gradient-boosting-algorithm-machine-learning/)\n",
        "  - _**[A Kaggle Master Explains Gradient Boosting](http://blog.kaggle.com/2017/01/23/a-kaggle-master-explains-gradient-boosting/)**_\n",
        "  - [_An Introduction to Statistical Learning_](http://www-bcf.usc.edu/~gareth/ISL/ISLR%20Seventh%20Printing.pdf) Chapter 8\n",
        "  - [Gradient Boosting Explained](http://arogozhnikov.github.io/2016/06/24/gradient_boosting_explained.html)\n",
        "  - _**[Boosting](https://www.youtube.com/watch?v=GM3CDQfQ4sw) (2.5 minute video)**_"
      ]
    },
    {
      "cell_type": "code",
      "metadata": {
        "id": "EouUCrSWcUeY",
        "colab_type": "code",
        "colab": {
          "base_uri": "https://localhost:8080/",
          "height": 269
        },
        "outputId": "69c9f021-20e7-4e4a-f8e9-12f7d0d6f843"
      },
      "source": [
        "pip install eli5"
      ],
      "execution_count": 33,
      "outputs": [
        {
          "output_type": "stream",
          "text": [
            "Collecting eli5\n",
            "\u001b[?25l  Downloading https://files.pythonhosted.org/packages/97/2f/c85c7d8f8548e460829971785347e14e45fa5c6617da374711dec8cb38cc/eli5-0.10.1-py2.py3-none-any.whl (105kB)\n",
            "\r\u001b[K     |███                             | 10kB 14.8MB/s eta 0:00:01\r\u001b[K     |██████▏                         | 20kB 3.4MB/s eta 0:00:01\r\u001b[K     |█████████▎                      | 30kB 4.9MB/s eta 0:00:01\r\u001b[K     |████████████▍                   | 40kB 3.1MB/s eta 0:00:01\r\u001b[K     |███████████████▌                | 51kB 3.7MB/s eta 0:00:01\r\u001b[K     |██████████████████▋             | 61kB 4.4MB/s eta 0:00:01\r\u001b[K     |█████████████████████▊          | 71kB 5.1MB/s eta 0:00:01\r\u001b[K     |████████████████████████▊       | 81kB 5.7MB/s eta 0:00:01\r\u001b[K     |███████████████████████████▉    | 92kB 6.4MB/s eta 0:00:01\r\u001b[K     |███████████████████████████████ | 102kB 5.0MB/s eta 0:00:01\r\u001b[K     |████████████████████████████████| 112kB 5.0MB/s \n",
            "\u001b[?25hRequirement already satisfied: attrs>16.0.0 in /usr/local/lib/python3.6/dist-packages (from eli5) (19.3.0)\n",
            "Requirement already satisfied: jinja2 in /usr/local/lib/python3.6/dist-packages (from eli5) (2.10.3)\n",
            "Requirement already satisfied: tabulate>=0.7.7 in /usr/local/lib/python3.6/dist-packages (from eli5) (0.8.6)\n",
            "Requirement already satisfied: scikit-learn>=0.18 in /usr/local/lib/python3.6/dist-packages (from eli5) (0.21.3)\n",
            "Requirement already satisfied: six in /usr/local/lib/python3.6/dist-packages (from eli5) (1.12.0)\n",
            "Requirement already satisfied: graphviz in /usr/local/lib/python3.6/dist-packages (from eli5) (0.10.1)\n",
            "Requirement already satisfied: scipy in /usr/local/lib/python3.6/dist-packages (from eli5) (1.3.3)\n",
            "Requirement already satisfied: numpy>=1.9.0 in /usr/local/lib/python3.6/dist-packages (from eli5) (1.17.4)\n",
            "Requirement already satisfied: MarkupSafe>=0.23 in /usr/local/lib/python3.6/dist-packages (from jinja2->eli5) (1.1.1)\n",
            "Requirement already satisfied: joblib>=0.11 in /usr/local/lib/python3.6/dist-packages (from scikit-learn>=0.18->eli5) (0.14.1)\n",
            "Installing collected packages: eli5\n",
            "Successfully installed eli5-0.10.1\n"
          ],
          "name": "stdout"
        }
      ]
    },
    {
      "cell_type": "code",
      "metadata": {
        "id": "ijBnc9nj66yA",
        "colab_type": "code",
        "colab": {
          "base_uri": "https://localhost:8080/",
          "height": 269
        },
        "outputId": "dfdbd01f-a7a3-4de3-b70b-7599d3c9fb09"
      },
      "source": [
        "pip install category_encoders"
      ],
      "execution_count": 2,
      "outputs": [
        {
          "output_type": "stream",
          "text": [
            "Collecting category_encoders\n",
            "\u001b[?25l  Downloading https://files.pythonhosted.org/packages/a0/52/c54191ad3782de633ea3d6ee3bb2837bda0cf3bc97644bb6375cf14150a0/category_encoders-2.1.0-py2.py3-none-any.whl (100kB)\n",
            "\r\u001b[K     |███▎                            | 10kB 18.4MB/s eta 0:00:01\r\u001b[K     |██████▌                         | 20kB 3.2MB/s eta 0:00:01\r\u001b[K     |█████████▉                      | 30kB 4.6MB/s eta 0:00:01\r\u001b[K     |█████████████                   | 40kB 3.0MB/s eta 0:00:01\r\u001b[K     |████████████████▍               | 51kB 3.7MB/s eta 0:00:01\r\u001b[K     |███████████████████▋            | 61kB 4.4MB/s eta 0:00:01\r\u001b[K     |██████████████████████▉         | 71kB 5.0MB/s eta 0:00:01\r\u001b[K     |██████████████████████████▏     | 81kB 5.6MB/s eta 0:00:01\r\u001b[K     |█████████████████████████████▍  | 92kB 6.3MB/s eta 0:00:01\r\u001b[K     |████████████████████████████████| 102kB 3.3MB/s \n",
            "\u001b[?25hRequirement already satisfied: pandas>=0.21.1 in /usr/local/lib/python3.6/dist-packages (from category_encoders) (0.25.3)\n",
            "Requirement already satisfied: patsy>=0.4.1 in /usr/local/lib/python3.6/dist-packages (from category_encoders) (0.5.1)\n",
            "Requirement already satisfied: scikit-learn>=0.20.0 in /usr/local/lib/python3.6/dist-packages (from category_encoders) (0.21.3)\n",
            "Requirement already satisfied: statsmodels>=0.6.1 in /usr/local/lib/python3.6/dist-packages (from category_encoders) (0.10.2)\n",
            "Requirement already satisfied: scipy>=0.19.0 in /usr/local/lib/python3.6/dist-packages (from category_encoders) (1.3.3)\n",
            "Requirement already satisfied: numpy>=1.11.3 in /usr/local/lib/python3.6/dist-packages (from category_encoders) (1.17.4)\n",
            "Requirement already satisfied: pytz>=2017.2 in /usr/local/lib/python3.6/dist-packages (from pandas>=0.21.1->category_encoders) (2018.9)\n",
            "Requirement already satisfied: python-dateutil>=2.6.1 in /usr/local/lib/python3.6/dist-packages (from pandas>=0.21.1->category_encoders) (2.6.1)\n",
            "Requirement already satisfied: six in /usr/local/lib/python3.6/dist-packages (from patsy>=0.4.1->category_encoders) (1.12.0)\n",
            "Requirement already satisfied: joblib>=0.11 in /usr/local/lib/python3.6/dist-packages (from scikit-learn>=0.20.0->category_encoders) (0.14.1)\n",
            "Installing collected packages: category-encoders\n",
            "Successfully installed category-encoders-2.1.0\n"
          ],
          "name": "stdout"
        }
      ]
    },
    {
      "cell_type": "code",
      "metadata": {
        "id": "zzHYxMXT60jU",
        "colab_type": "code",
        "colab": {}
      },
      "source": [
        "import pandas as pd\n",
        "import numpy as np\n",
        "from sklearn.model_selection import train_test_split\n",
        "from sklearn.metrics import f1_score\n",
        "from sklearn.ensemble import RandomForestClassifier\n",
        "from sklearn.pipeline import make_pipeline\n",
        "from sklearn.impute import SimpleImputer\n",
        "import category_encoders as ce\n",
        "import re"
      ],
      "execution_count": 0,
      "outputs": []
    },
    {
      "cell_type": "code",
      "metadata": {
        "id": "HaMqfUYw61BB",
        "colab_type": "code",
        "colab": {}
      },
      "source": [
        "df = pd.read_csv('https://github.com/jamesluttringer2019/unit2build/raw/master/trafficsample.csv', low_memory=False)"
      ],
      "execution_count": 0,
      "outputs": []
    },
    {
      "cell_type": "code",
      "metadata": {
        "id": "sjCEh6L86_MS",
        "colab_type": "code",
        "colab": {
          "base_uri": "https://localhost:8080/",
          "height": 34
        },
        "outputId": "99c784bf-5add-40b3-a94b-e536236e72e6"
      },
      "source": [
        "train, val = train_test_split(df, train_size=.8, test_size=.2, random_state=13)\n",
        "train.shape, val.shape"
      ],
      "execution_count": 5,
      "outputs": [
        {
          "output_type": "execute_result",
          "data": {
            "text/plain": [
              "((80000, 26), (20000, 26))"
            ]
          },
          "metadata": {
            "tags": []
          },
          "execution_count": 5
        }
      ]
    },
    {
      "cell_type": "code",
      "metadata": {
        "id": "9Kd1QZW57CSd",
        "colab_type": "code",
        "colab": {}
      },
      "source": [
        "def wrangle(X):\n",
        "  #avoid copy warning\n",
        "  X = X.copy()\n",
        "\n",
        "  #round times to nearest 5 minute interval\n",
        "  times = []\n",
        "  for i in X['stop_time']:\n",
        "    i = str(i)  \n",
        "    if i == 'nan':\n",
        "      times.append(np.nan)\n",
        "    else:\n",
        "      if int(i[4]) < 3:\n",
        "        i = (i[:4] + '0')\n",
        "        times.append(i)\n",
        "      elif int(i[4]) in (range(3,8)):\n",
        "        i = (i[:4] + '5')\n",
        "        times.append(i)\n",
        "      else:\n",
        "        i = (i[:3] + str(int(i[3])+1) + '0')\n",
        "        times.append(i)\n",
        "    \n",
        "  X['stop_time'] = times\n",
        "\n",
        "  #create individual columns for year, month, and day\n",
        "  X['stop_date'] = pd.to_datetime(X['stop_date'])\n",
        "  X['year'] = X['stop_date'].dt.year\n",
        "  X['month'] = X['stop_date'].dt.month\n",
        "  X['day'] = X['stop_date'].dt.day\n",
        "\n",
        "  #Seperate vehicle make and year into their own columns\n",
        "  make = []\n",
        "  car_year = []\n",
        "  for vehicle in X['vehicle_type']:\n",
        "    make.append(re.search(r'^\\w+|$', vehicle)[0])\n",
        "    car_year.append(re.findall(r'\\d+|$', vehicle)[0])\n",
        "\n",
        "  X['vehicle_make'] = make\n",
        "  X['vehicle_year'] = car_year\n",
        "\n",
        "  #assume null for drugs_related_stop == false, replace values\n",
        "  X['drugs_related_stop'].replace({np.nan:'False'}, inplace=True)\n",
        "\n",
        "  #fill nulls in fine_grained_location\n",
        "  X['fine_grained_location'].replace({np.nan:0}, inplace=True)\n",
        "\n",
        "  #drop repetitive or unwanted columns\n",
        "  drop_cols = ['id','state','location_raw', 'county_name',\n",
        "             'county_fips','police_department','driver_race',\n",
        "             'violation', 'district', 'search_type_raw',\n",
        "             'stop_date', 'vehicle_type', 'is_arrested', 'search_type']\n",
        "  X = X.drop(drop_cols, axis=1) \n",
        "  return X"
      ],
      "execution_count": 0,
      "outputs": []
    },
    {
      "cell_type": "code",
      "metadata": {
        "id": "IYRRq-2D7F_b",
        "colab_type": "code",
        "colab": {}
      },
      "source": [
        "train = wrangle(train)\n",
        "val = wrangle(val)"
      ],
      "execution_count": 0,
      "outputs": []
    },
    {
      "cell_type": "code",
      "metadata": {
        "id": "K2cw7Uuh7IXa",
        "colab_type": "code",
        "colab": {}
      },
      "source": [
        "#break into X matrices and y vectors\n",
        "target = 'driver_gender'\n",
        "features = train.columns.drop(target)\n",
        "\n",
        "X_train = train[features]\n",
        "y_train = train[target]\n",
        "\n",
        "X_val = val[features]\n",
        "y_val = val[target]"
      ],
      "execution_count": 0,
      "outputs": []
    },
    {
      "cell_type": "code",
      "metadata": {
        "id": "8wa5XEEdBufh",
        "colab_type": "code",
        "colab": {
          "base_uri": "https://localhost:8080/",
          "height": 87
        },
        "outputId": "01df45f9-a3a9-4367-ff1d-d33ad1d246ee"
      },
      "source": [
        "#get baseline f1_score\n",
        "y_pred = ['M'] * len(y_val)\n",
        "f1_score(y_val, y_pred, average='weighted')"
      ],
      "execution_count": 9,
      "outputs": [
        {
          "output_type": "stream",
          "text": [
            "/usr/local/lib/python3.6/dist-packages/sklearn/metrics/classification.py:1437: UndefinedMetricWarning: F-score is ill-defined and being set to 0.0 in labels with no predicted samples.\n",
            "  'precision', 'predicted', average, warn_for)\n"
          ],
          "name": "stderr"
        },
        {
          "output_type": "execute_result",
          "data": {
            "text/plain": [
              "0.5889985113041443"
            ]
          },
          "metadata": {
            "tags": []
          },
          "execution_count": 9
        }
      ]
    },
    {
      "cell_type": "code",
      "metadata": {
        "id": "FdNSk2F7BzQg",
        "colab_type": "code",
        "colab": {
          "base_uri": "https://localhost:8080/",
          "height": 299
        },
        "outputId": "9bd78201-d00a-4ac6-8e48-34cd5c0a788d"
      },
      "source": [
        "X_train.head()"
      ],
      "execution_count": 10,
      "outputs": [
        {
          "output_type": "execute_result",
          "data": {
            "text/html": [
              "<div>\n",
              "<style scoped>\n",
              "    .dataframe tbody tr th:only-of-type {\n",
              "        vertical-align: middle;\n",
              "    }\n",
              "\n",
              "    .dataframe tbody tr th {\n",
              "        vertical-align: top;\n",
              "    }\n",
              "\n",
              "    .dataframe thead th {\n",
              "        text-align: right;\n",
              "    }\n",
              "</style>\n",
              "<table border=\"1\" class=\"dataframe\">\n",
              "  <thead>\n",
              "    <tr style=\"text-align: right;\">\n",
              "      <th></th>\n",
              "      <th>stop_time</th>\n",
              "      <th>fine_grained_location</th>\n",
              "      <th>driver_age_raw</th>\n",
              "      <th>driver_age</th>\n",
              "      <th>driver_race_raw</th>\n",
              "      <th>violation_raw</th>\n",
              "      <th>search_conducted</th>\n",
              "      <th>contraband_found</th>\n",
              "      <th>stop_outcome</th>\n",
              "      <th>stop_duration</th>\n",
              "      <th>drugs_related_stop</th>\n",
              "      <th>year</th>\n",
              "      <th>month</th>\n",
              "      <th>day</th>\n",
              "      <th>vehicle_make</th>\n",
              "      <th>vehicle_year</th>\n",
              "    </tr>\n",
              "  </thead>\n",
              "  <tbody>\n",
              "    <tr>\n",
              "      <th>61975</th>\n",
              "      <td>08:40</td>\n",
              "      <td>7</td>\n",
              "      <td>1947.0</td>\n",
              "      <td>61.0</td>\n",
              "      <td>Caucasian</td>\n",
              "      <td>Moving Violation,Speed</td>\n",
              "      <td>False</td>\n",
              "      <td>False</td>\n",
              "      <td>Written Warning</td>\n",
              "      <td>15.0</td>\n",
              "      <td>False</td>\n",
              "      <td>2008</td>\n",
              "      <td>9</td>\n",
              "      <td>28</td>\n",
              "      <td>Toyo</td>\n",
              "      <td>1998</td>\n",
              "    </tr>\n",
              "    <tr>\n",
              "      <th>75905</th>\n",
              "      <td>21:15</td>\n",
              "      <td>10</td>\n",
              "      <td>1982.0</td>\n",
              "      <td>26.0</td>\n",
              "      <td>Caucasian</td>\n",
              "      <td>Moving Violation,Speed</td>\n",
              "      <td>False</td>\n",
              "      <td>False</td>\n",
              "      <td>Written Warning</td>\n",
              "      <td>9.0</td>\n",
              "      <td>False</td>\n",
              "      <td>2008</td>\n",
              "      <td>4</td>\n",
              "      <td>21</td>\n",
              "      <td>Chev</td>\n",
              "      <td>2001</td>\n",
              "    </tr>\n",
              "    <tr>\n",
              "      <th>90174</th>\n",
              "      <td>00:20</td>\n",
              "      <td>17</td>\n",
              "      <td>1976.0</td>\n",
              "      <td>31.0</td>\n",
              "      <td>African American</td>\n",
              "      <td>Moving Violation,Speed</td>\n",
              "      <td>False</td>\n",
              "      <td>False</td>\n",
              "      <td>Citation</td>\n",
              "      <td>14.0</td>\n",
              "      <td>False</td>\n",
              "      <td>2007</td>\n",
              "      <td>9</td>\n",
              "      <td>30</td>\n",
              "      <td>Linc</td>\n",
              "      <td>2003</td>\n",
              "    </tr>\n",
              "    <tr>\n",
              "      <th>60156</th>\n",
              "      <td>22:35</td>\n",
              "      <td>10</td>\n",
              "      <td>1990.0</td>\n",
              "      <td>24.0</td>\n",
              "      <td>Asian/Pacific Islander</td>\n",
              "      <td>Equipment,Not applicable</td>\n",
              "      <td>False</td>\n",
              "      <td>False</td>\n",
              "      <td>Written Warning</td>\n",
              "      <td>7.0</td>\n",
              "      <td>False</td>\n",
              "      <td>2014</td>\n",
              "      <td>5</td>\n",
              "      <td>17</td>\n",
              "      <td>Kia</td>\n",
              "      <td>2004</td>\n",
              "    </tr>\n",
              "    <tr>\n",
              "      <th>62373</th>\n",
              "      <td>02:10</td>\n",
              "      <td>15</td>\n",
              "      <td>1986.0</td>\n",
              "      <td>20.0</td>\n",
              "      <td>African American</td>\n",
              "      <td>Moving Violation,SeatBelt</td>\n",
              "      <td>False</td>\n",
              "      <td>False</td>\n",
              "      <td>Citation</td>\n",
              "      <td>NaN</td>\n",
              "      <td>False</td>\n",
              "      <td>2006</td>\n",
              "      <td>7</td>\n",
              "      <td>2</td>\n",
              "      <td>Satu</td>\n",
              "      <td>1994</td>\n",
              "    </tr>\n",
              "  </tbody>\n",
              "</table>\n",
              "</div>"
            ],
            "text/plain": [
              "      stop_time fine_grained_location  ...  vehicle_make  vehicle_year\n",
              "61975     08:40                     7  ...          Toyo          1998\n",
              "75905     21:15                    10  ...          Chev          2001\n",
              "90174     00:20                    17  ...          Linc          2003\n",
              "60156     22:35                    10  ...           Kia          2004\n",
              "62373     02:10                    15  ...          Satu          1994\n",
              "\n",
              "[5 rows x 16 columns]"
            ]
          },
          "metadata": {
            "tags": []
          },
          "execution_count": 10
        }
      ]
    },
    {
      "cell_type": "code",
      "metadata": {
        "id": "ndGrf74HB7Cu",
        "colab_type": "code",
        "colab": {}
      },
      "source": [
        "pipeline = make_pipeline(\n",
        "    ce.OneHotEncoder(),\n",
        "    SimpleImputer(strategy='mean'),\n",
        "    RandomForestClassifier(n_estimators=100, random_state=13)\n",
        ")"
      ],
      "execution_count": 0,
      "outputs": []
    },
    {
      "cell_type": "code",
      "metadata": {
        "id": "zOarxobbDN42",
        "colab_type": "code",
        "colab": {
          "base_uri": "https://localhost:8080/",
          "height": 403
        },
        "outputId": "c8c3d27f-11fd-4310-90df-cd6ee51bb6af"
      },
      "source": [
        "pipeline.fit(X_train,y_train)"
      ],
      "execution_count": 14,
      "outputs": [
        {
          "output_type": "execute_result",
          "data": {
            "text/plain": [
              "Pipeline(memory=None,\n",
              "         steps=[('onehotencoder',\n",
              "                 OneHotEncoder(cols=['stop_time', 'fine_grained_location',\n",
              "                                     'driver_race_raw', 'violation_raw',\n",
              "                                     'stop_outcome', 'drugs_related_stop',\n",
              "                                     'vehicle_make', 'vehicle_year'],\n",
              "                               drop_invariant=False, handle_missing='value',\n",
              "                               handle_unknown='value', return_df=True,\n",
              "                               use_cat_names=False, verbose=0)),\n",
              "                ('simpleimputer',\n",
              "                 SimpleImputer(add...\n",
              "                 RandomForestClassifier(bootstrap=True, class_weight=None,\n",
              "                                        criterion='gini', max_depth=None,\n",
              "                                        max_features='auto',\n",
              "                                        max_leaf_nodes=None,\n",
              "                                        min_impurity_decrease=0.0,\n",
              "                                        min_impurity_split=None,\n",
              "                                        min_samples_leaf=1, min_samples_split=2,\n",
              "                                        min_weight_fraction_leaf=0.0,\n",
              "                                        n_estimators=100, n_jobs=None,\n",
              "                                        oob_score=False, random_state=13,\n",
              "                                        verbose=0, warm_start=False))],\n",
              "         verbose=False)"
            ]
          },
          "metadata": {
            "tags": []
          },
          "execution_count": 14
        }
      ]
    },
    {
      "cell_type": "code",
      "metadata": {
        "id": "OUUzNfRLDffP",
        "colab_type": "code",
        "colab": {}
      },
      "source": [
        "y_pred = pipeline.predict(X_val)"
      ],
      "execution_count": 0,
      "outputs": []
    },
    {
      "cell_type": "code",
      "metadata": {
        "id": "LtkfCurCEFPm",
        "colab_type": "code",
        "colab": {
          "base_uri": "https://localhost:8080/",
          "height": 34
        },
        "outputId": "f8e6d97c-6a73-4f68-bee7-192969c45131"
      },
      "source": [
        "score = f1_score(y_val, y_pred, average='weighted')\n",
        "print(f'Val F1 score: {score}')"
      ],
      "execution_count": 17,
      "outputs": [
        {
          "output_type": "stream",
          "text": [
            "Val F1 score: 0.6154212841993568\n"
          ],
          "name": "stdout"
        }
      ]
    },
    {
      "cell_type": "code",
      "metadata": {
        "id": "Yb8jZlrCFY5R",
        "colab_type": "code",
        "colab": {}
      },
      "source": [
        "encoder = ce.OneHotEncoder()\n",
        "X_train_enc = encoder.fit_transform(X_train)"
      ],
      "execution_count": 0,
      "outputs": []
    },
    {
      "cell_type": "code",
      "metadata": {
        "id": "n9LuK4DqESGI",
        "colab_type": "code",
        "colab": {
          "base_uri": "https://localhost:8080/",
          "height": 320
        },
        "outputId": "f1e3635e-6ea5-4a78-c0cb-c0fcc3b2c0cf"
      },
      "source": [
        "#see top 10 feature importances\n",
        "rf = pipeline.named_steps['randomforestclassifier']\n",
        "feat_importances = pd.Series(rf.feature_importances_, X_train_enc.columns)\n",
        "\n",
        "%matplotlib inline\n",
        "import matplotlib.pyplot as plt\n",
        "\n",
        "n=10\n",
        "plt.figure(figsize=(10, n/2))\n",
        "feat_importances.sort_values()[-n:].plot.barh();"
      ],
      "execution_count": 23,
      "outputs": [
        {
          "output_type": "display_data",
          "data": {
            "image/png": "[encoded data removed]",
            "text/plain": [
              "<Figure size 720x360 with 1 Axes>"
            ]
          },
          "metadata": {
            "tags": []
          }
        }
      ]
    },
    {
      "cell_type": "code",
      "metadata": {
        "id": "q39mSAfrFMqB",
        "colab_type": "code",
        "colab": {}
      },
      "source": [
        "#use XGBoost\n",
        "from xgboost import XGBClassifier"
      ],
      "execution_count": 0,
      "outputs": []
    },
    {
      "cell_type": "code",
      "metadata": {
        "id": "A8KP59PEGiFj",
        "colab_type": "code",
        "colab": {}
      },
      "source": [
        "pipeline = make_pipeline(\n",
        "    ce.OneHotEncoder(),\n",
        "    XGBClassifier(n_estimators=100, random_state=13, n_jobs=-1)\n",
        ")"
      ],
      "execution_count": 0,
      "outputs": []
    },
    {
      "cell_type": "code",
      "metadata": {
        "id": "nBhoZSzeH5ea",
        "colab_type": "code",
        "colab": {
          "base_uri": "https://localhost:8080/",
          "height": 370
        },
        "outputId": "e0812e48-0274-4e66-de94-d74c44e3364f"
      },
      "source": [
        "pipeline.fit(X_train, y_train)"
      ],
      "execution_count": 26,
      "outputs": [
        {
          "output_type": "execute_result",
          "data": {
            "text/plain": [
              "Pipeline(memory=None,\n",
              "         steps=[('onehotencoder',\n",
              "                 OneHotEncoder(cols=['stop_time', 'fine_grained_location',\n",
              "                                     'driver_race_raw', 'violation_raw',\n",
              "                                     'stop_outcome', 'drugs_related_stop',\n",
              "                                     'vehicle_make', 'vehicle_year'],\n",
              "                               drop_invariant=False, handle_missing='value',\n",
              "                               handle_unknown='value', return_df=True,\n",
              "                               use_cat_names=False, verbose=0)),\n",
              "                ('xgbclassifier',\n",
              "                 XGBClassifier(bas...ster='gbtree',\n",
              "                               colsample_bylevel=1, colsample_bynode=1,\n",
              "                               colsample_bytree=1, gamma=0, learning_rate=0.1,\n",
              "                               max_delta_step=0, max_depth=3,\n",
              "                               min_child_weight=1, missing=None,\n",
              "                               n_estimators=100, n_jobs=-1, nthread=None,\n",
              "                               objective='binary:logistic', random_state=13,\n",
              "                               reg_alpha=0, reg_lambda=1, scale_pos_weight=1,\n",
              "                               seed=None, silent=None, subsample=1,\n",
              "                               verbosity=1))],\n",
              "         verbose=False)"
            ]
          },
          "metadata": {
            "tags": []
          },
          "execution_count": 26
        }
      ]
    },
    {
      "cell_type": "code",
      "metadata": {
        "id": "BBX6P5RwH8M2",
        "colab_type": "code",
        "colab": {
          "base_uri": "https://localhost:8080/",
          "height": 34
        },
        "outputId": "ad576efe-3ee1-445c-ad1d-f3ef12e705d8"
      },
      "source": [
        "y_pred = pipeline.predict(X_val)\n",
        "score = f1_score(y_val,y_pred, average='weighted')\n",
        "print(f'Val F1 score: {score}')"
      ],
      "execution_count": 28,
      "outputs": [
        {
          "output_type": "stream",
          "text": [
            "Val F1 score: 0.5897694776825945\n"
          ],
          "name": "stdout"
        }
      ]
    },
    {
      "cell_type": "code",
      "metadata": {
        "id": "r6y8pHI7JDDY",
        "colab_type": "code",
        "colab": {
          "base_uri": "https://localhost:8080/",
          "height": 1000
        },
        "outputId": "8b35dadc-0bd9-41da-f9ee-bba03351292d"
      },
      "source": [
        "X_val_enc = encoder.transform(X_val)\n",
        "\n",
        "model = XGBClassifier(\n",
        "    n_estimators = 1000,\n",
        "    max_depth = 5,\n",
        "    learning_rate=.5,\n",
        "    n_jobs = -1\n",
        ")\n",
        "\n",
        "eval_set = [(X_train_enc, y_train),\n",
        "            (X_val_enc, y_val)]\n",
        "\n",
        "model.fit(\n",
        "    X_train_enc, y_train,\n",
        "    eval_set = eval_set,\n",
        "    eval_metric = 'error',\n",
        "    early_stopping_rounds=50\n",
        ")"
      ],
      "execution_count": 31,
      "outputs": [
        {
          "output_type": "stream",
          "text": [
            "[0]\tvalidation_0-error:0.289075\tvalidation_1-error:0.2907\n",
            "Multiple eval metrics have been passed: 'validation_1-error' will be used for early stopping.\n",
            "\n",
            "Will train until validation_1-error hasn't improved in 50 rounds.\n",
            "[1]\tvalidation_0-error:0.289088\tvalidation_1-error:0.2905\n",
            "[2]\tvalidation_0-error:0.28885\tvalidation_1-error:0.29055\n",
            "[3]\tvalidation_0-error:0.288812\tvalidation_1-error:0.2906\n",
            "[4]\tvalidation_0-error:0.28875\tvalidation_1-error:0.2906\n",
            "[5]\tvalidation_0-error:0.288812\tvalidation_1-error:0.2906\n",
            "[6]\tvalidation_0-error:0.288725\tvalidation_1-error:0.2907\n",
            "[7]\tvalidation_0-error:0.2885\tvalidation_1-error:0.29085\n",
            "[8]\tvalidation_0-error:0.288225\tvalidation_1-error:0.2909\n",
            "[9]\tvalidation_0-error:0.2882\tvalidation_1-error:0.29095\n",
            "[10]\tvalidation_0-error:0.287937\tvalidation_1-error:0.29105\n",
            "[11]\tvalidation_0-error:0.287562\tvalidation_1-error:0.2908\n",
            "[12]\tvalidation_0-error:0.287575\tvalidation_1-error:0.2908\n",
            "[13]\tvalidation_0-error:0.28725\tvalidation_1-error:0.29065\n",
            "[14]\tvalidation_0-error:0.28695\tvalidation_1-error:0.29055\n",
            "[15]\tvalidation_0-error:0.286525\tvalidation_1-error:0.29025\n",
            "[16]\tvalidation_0-error:0.286875\tvalidation_1-error:0.2905\n",
            "[17]\tvalidation_0-error:0.286413\tvalidation_1-error:0.29045\n",
            "[18]\tvalidation_0-error:0.286275\tvalidation_1-error:0.29045\n",
            "[19]\tvalidation_0-error:0.285838\tvalidation_1-error:0.29045\n",
            "[20]\tvalidation_0-error:0.28585\tvalidation_1-error:0.29045\n",
            "[21]\tvalidation_0-error:0.2859\tvalidation_1-error:0.29055\n",
            "[22]\tvalidation_0-error:0.284975\tvalidation_1-error:0.2905\n",
            "[23]\tvalidation_0-error:0.28485\tvalidation_1-error:0.29045\n",
            "[24]\tvalidation_0-error:0.284887\tvalidation_1-error:0.2907\n",
            "[25]\tvalidation_0-error:0.284813\tvalidation_1-error:0.2909\n",
            "[26]\tvalidation_0-error:0.284638\tvalidation_1-error:0.2908\n",
            "[27]\tvalidation_0-error:0.28435\tvalidation_1-error:0.2907\n",
            "[28]\tvalidation_0-error:0.283875\tvalidation_1-error:0.2908\n",
            "[29]\tvalidation_0-error:0.283675\tvalidation_1-error:0.291\n",
            "[30]\tvalidation_0-error:0.2834\tvalidation_1-error:0.29055\n",
            "[31]\tvalidation_0-error:0.282937\tvalidation_1-error:0.292\n",
            "[32]\tvalidation_0-error:0.282887\tvalidation_1-error:0.29215\n",
            "[33]\tvalidation_0-error:0.282725\tvalidation_1-error:0.29155\n",
            "[34]\tvalidation_0-error:0.282237\tvalidation_1-error:0.29165\n",
            "[35]\tvalidation_0-error:0.28195\tvalidation_1-error:0.29155\n",
            "[36]\tvalidation_0-error:0.281662\tvalidation_1-error:0.2918\n",
            "[37]\tvalidation_0-error:0.280925\tvalidation_1-error:0.2914\n",
            "[38]\tvalidation_0-error:0.280787\tvalidation_1-error:0.2915\n",
            "[39]\tvalidation_0-error:0.28015\tvalidation_1-error:0.2919\n",
            "[40]\tvalidation_0-error:0.279788\tvalidation_1-error:0.29195\n",
            "[41]\tvalidation_0-error:0.2795\tvalidation_1-error:0.2924\n",
            "[42]\tvalidation_0-error:0.27945\tvalidation_1-error:0.2923\n",
            "[43]\tvalidation_0-error:0.279088\tvalidation_1-error:0.2924\n",
            "[44]\tvalidation_0-error:0.279025\tvalidation_1-error:0.29315\n",
            "[45]\tvalidation_0-error:0.27895\tvalidation_1-error:0.29305\n",
            "[46]\tvalidation_0-error:0.278838\tvalidation_1-error:0.2928\n",
            "[47]\tvalidation_0-error:0.278637\tvalidation_1-error:0.29265\n",
            "[48]\tvalidation_0-error:0.278562\tvalidation_1-error:0.2929\n",
            "[49]\tvalidation_0-error:0.27845\tvalidation_1-error:0.2927\n",
            "[50]\tvalidation_0-error:0.278113\tvalidation_1-error:0.29235\n",
            "[51]\tvalidation_0-error:0.277775\tvalidation_1-error:0.29265\n",
            "[52]\tvalidation_0-error:0.277825\tvalidation_1-error:0.29285\n",
            "[53]\tvalidation_0-error:0.2772\tvalidation_1-error:0.29265\n",
            "[54]\tvalidation_0-error:0.277125\tvalidation_1-error:0.29285\n",
            "[55]\tvalidation_0-error:0.276888\tvalidation_1-error:0.2931\n",
            "[56]\tvalidation_0-error:0.276188\tvalidation_1-error:0.29295\n",
            "[57]\tvalidation_0-error:0.2761\tvalidation_1-error:0.29305\n",
            "[58]\tvalidation_0-error:0.27525\tvalidation_1-error:0.2934\n",
            "[59]\tvalidation_0-error:0.275288\tvalidation_1-error:0.2933\n",
            "[60]\tvalidation_0-error:0.275138\tvalidation_1-error:0.2934\n",
            "[61]\tvalidation_0-error:0.275088\tvalidation_1-error:0.2935\n",
            "[62]\tvalidation_0-error:0.274987\tvalidation_1-error:0.2935\n",
            "[63]\tvalidation_0-error:0.274675\tvalidation_1-error:0.2937\n",
            "[64]\tvalidation_0-error:0.2742\tvalidation_1-error:0.2936\n",
            "[65]\tvalidation_0-error:0.273787\tvalidation_1-error:0.2938\n",
            "Stopping. Best iteration:\n",
            "[15]\tvalidation_0-error:0.286525\tvalidation_1-error:0.29025\n",
            "\n"
          ],
          "name": "stdout"
        },
        {
          "output_type": "execute_result",
          "data": {
            "text/plain": [
              "XGBClassifier(base_score=0.5, booster='gbtree', colsample_bylevel=1,\n",
              "              colsample_bynode=1, colsample_bytree=1, gamma=0,\n",
              "              learning_rate=0.5, max_delta_step=0, max_depth=5,\n",
              "              min_child_weight=1, missing=None, n_estimators=1000, n_jobs=-1,\n",
              "              nthread=None, objective='binary:logistic', random_state=0,\n",
              "              reg_alpha=0, reg_lambda=1, scale_pos_weight=1, seed=None,\n",
              "              silent=None, subsample=1, verbosity=1)"
            ]
          },
          "metadata": {
            "tags": []
          },
          "execution_count": 31
        }
      ]
    },
    {
      "cell_type": "code",
      "metadata": {
        "id": "iHMNBAmjKX4i",
        "colab_type": "code",
        "colab": {
          "base_uri": "https://localhost:8080/",
          "height": 79
        },
        "outputId": "4aa9ee34-b02e-439f-81c9-e55711efeaba"
      },
      "source": [
        "import eli5\n",
        "from eli5.sklearn import PermutationImportance"
      ],
      "execution_count": 34,
      "outputs": [
        {
          "output_type": "stream",
          "text": [
            "Using TensorFlow backend.\n"
          ],
          "name": "stderr"
        },
        {
          "output_type": "display_data",
          "data": {
            "text/html": [
              "<p style=\"color: red;\">\n",
              "The default version of TensorFlow in Colab will soon switch to TensorFlow 2.x.<br>\n",
              "We recommend you <a href=\"https://www.tensorflow.org/guide/migrate\" target=\"_blank\">upgrade</a> now \n",
              "or ensure your notebook will continue to use TensorFlow 1.x via the <code>%tensorflow_version 1.x</code> magic:\n",
              "<a href=\"https://colab.research.google.com/notebooks/tensorflow_version.ipynb\" target=\"_blank\">more info</a>.</p>\n"
            ],
            "text/plain": [
              "<IPython.core.display.HTML object>"
            ]
          },
          "metadata": {
            "tags": []
          }
        }
      ]
    },
    {
      "cell_type": "code",
      "metadata": {
        "id": "J_EQv--IcRaW",
        "colab_type": "code",
        "colab": {}
      },
      "source": [
        "transform = make_pipeline(\n",
        "    ce.OneHotEncoder(),\n",
        "    SimpleImputer(strategy='mean')\n",
        ")\n",
        "\n",
        "X_train_trans = transform.fit_transform(X_train)\n",
        "X_val_trans = transform.transform(X_val)"
      ],
      "execution_count": 0,
      "outputs": []
    },
    {
      "cell_type": "code",
      "metadata": {
        "id": "Qd711NW9eUQc",
        "colab_type": "code",
        "colab": {
          "base_uri": "https://localhost:8080/",
          "height": 134
        },
        "outputId": "a066a574-cb9d-4953-cc0a-03f868641552"
      },
      "source": [
        "model = RandomForestClassifier(n_estimators=100, random_state=13, n_jobs=-1)\n",
        "model.fit(X_train_trans,y_train)"
      ],
      "execution_count": 39,
      "outputs": [
        {
          "output_type": "execute_result",
          "data": {
            "text/plain": [
              "RandomForestClassifier(bootstrap=True, class_weight=None, criterion='gini',\n",
              "                       max_depth=None, max_features='auto', max_leaf_nodes=None,\n",
              "                       min_impurity_decrease=0.0, min_impurity_split=None,\n",
              "                       min_samples_leaf=1, min_samples_split=2,\n",
              "                       min_weight_fraction_leaf=0.0, n_estimators=100,\n",
              "                       n_jobs=-1, oob_score=False, random_state=13, verbose=0,\n",
              "                       warm_start=False)"
            ]
          },
          "metadata": {
            "tags": []
          },
          "execution_count": 39
        }
      ]
    },
    {
      "cell_type": "code",
      "metadata": {
        "id": "o09X1MlActcw",
        "colab_type": "code",
        "colab": {}
      },
      "source": [
        "permuter = PermutationImportance(\n",
        "    model,\n",
        "    scoring='f1_weighted',\n",
        "    n_iter=5,\n",
        "    random_state=13\n",
        ")\n",
        "\n",
        "permuter.fit(X_val_trans,y_val)"
      ],
      "execution_count": 0,
      "outputs": []
    },
    {
      "cell_type": "code",
      "metadata": {
        "id": "o7Zw6ojAf35h",
        "colab_type": "code",
        "colab": {}
      },
      "source": [
        "feature_names = X_val_enc.columns.tolist()\n",
        "pd.Series(permuter.feature_importances_, feature_names).sort_values()"
      ],
      "execution_count": 0,
      "outputs": []
    },
    {
      "cell_type": "code",
      "metadata": {
        "id": "Rit25htMfl5I",
        "colab_type": "code",
        "colab": {}
      },
      "source": [
        "eli5.show_weights(\n",
        "    permuter,\n",
        "    top=None,\n",
        "    feature_names = feature_names\n",
        ")"
      ],
      "execution_count": 0,
      "outputs": []
    }
  ]
}