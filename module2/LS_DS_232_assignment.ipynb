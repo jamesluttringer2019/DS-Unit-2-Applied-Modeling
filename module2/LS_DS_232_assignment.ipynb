{
  "nbformat": 4,
  "nbformat_minor": 0,
  "metadata": {
    "jupytext": {
      "cell_metadata_filter": "-all",
      "main_language": "python",
      "notebook_metadata_filter": "-all"
    },
    "kernelspec": {
      "display_name": "Python 3",
      "language": "python",
      "name": "python3"
    },
    "language_info": {
      "codemirror_mode": {
        "name": "ipython",
        "version": 3
      },
      "file_extension": ".py",
      "mimetype": "text/x-python",
      "name": "python",
      "nbconvert_exporter": "python",
      "pygments_lexer": "ipython3",
      "version": "3.7.3"
    },
    "colab": {
      "name": "Copy of LS_DS_232_assignment.ipynb",
      "provenance": [],
      "include_colab_link": true
    }
  },
  "cells": [
    {
      "cell_type": "markdown",
      "metadata": {
        "id": "view-in-github",
        "colab_type": "text"
      },
      "source": [
        "<a href=\"https://colab.research.google.com/github/jamesluttringer2019/DS-Unit-2-Applied-Modeling/blob/master/module2/LS_DS_232_assignment.ipynb\" target=\"_parent\"><img src=\"https://colab.research.google.com/assets/colab-badge.svg\" alt=\"Open In Colab\"/></a>"
      ]
    },
    {
      "cell_type": "markdown",
      "metadata": {
        "id": "NbxOyzVnPRWd",
        "colab_type": "text"
      },
      "source": [
        "Lambda School Data Science\n",
        "\n",
        "*Unit 2, Sprint 3, Module 1*\n",
        "\n",
        "---\n",
        "\n",
        "\n",
        "# Wrangle ML datasets\n",
        "\n",
        "- [ ] Continue to clean and explore your data. \n",
        "- [ ] For the evaluation metric you chose, what score would you get just by guessing?\n",
        "- [ ] Can you make a fast, first model that beats guessing?\n",
        "\n",
        "**We recommend that you use your portfolio project dataset for all assignments this sprint.**\n",
        "\n",
        "**But if you aren't ready yet, or you want more practice, then use the New York City property sales dataset for today's assignment.** Follow the instructions below, to just keep a subset for the Tribeca neighborhood, and remove outliers or dirty data. [Here's a video walkthrough](https://youtu.be/pPWFw8UtBVg?t=584) you can refer to if you get stuck or want hints!\n",
        "\n",
        "- Data Source: [NYC OpenData: NYC Citywide Rolling Calendar Sales](https://data.cityofnewyork.us/dataset/NYC-Citywide-Rolling-Calendar-Sales/usep-8jbt)\n",
        "- Glossary: [NYC Department of Finance: Rolling Sales Data](https://www1.nyc.gov/site/finance/taxes/property-rolling-sales-data.page)"
      ]
    },
    {
      "cell_type": "markdown",
      "metadata": {
        "id": "NEGhMPPkPRWl",
        "colab_type": "text"
      },
      "source": [
        "Your code starts here:"
      ]
    },
    {
      "cell_type": "code",
      "metadata": {
        "id": "50MNN07L5B9I",
        "colab_type": "code",
        "colab": {
          "base_uri": "https://localhost:8080/",
          "height": 269
        },
        "outputId": "3100e5a5-1a24-41f6-8a71-6b644deb6c39"
      },
      "source": [
        "pip install category_encoders"
      ],
      "execution_count": 167,
      "outputs": [
        {
          "output_type": "stream",
          "text": [
            "Collecting category_encoders\n",
            "\u001b[?25l  Downloading https://files.pythonhosted.org/packages/a0/52/c54191ad3782de633ea3d6ee3bb2837bda0cf3bc97644bb6375cf14150a0/category_encoders-2.1.0-py2.py3-none-any.whl (100kB)\n",
            "\r\u001b[K     |███▎                            | 10kB 17.6MB/s eta 0:00:01\r\u001b[K     |██████▌                         | 20kB 1.4MB/s eta 0:00:01\r\u001b[K     |█████████▉                      | 30kB 2.0MB/s eta 0:00:01\r\u001b[K     |█████████████                   | 40kB 1.4MB/s eta 0:00:01\r\u001b[K     |████████████████▍               | 51kB 1.8MB/s eta 0:00:01\r\u001b[K     |███████████████████▋            | 61kB 2.1MB/s eta 0:00:01\r\u001b[K     |██████████████████████▉         | 71kB 2.4MB/s eta 0:00:01\r\u001b[K     |██████████████████████████▏     | 81kB 2.8MB/s eta 0:00:01\r\u001b[K     |█████████████████████████████▍  | 92kB 3.1MB/s eta 0:00:01\r\u001b[K     |████████████████████████████████| 102kB 2.0MB/s \n",
            "\u001b[?25hRequirement already satisfied: scikit-learn>=0.20.0 in /usr/local/lib/python3.6/dist-packages (from category_encoders) (0.21.3)\n",
            "Requirement already satisfied: numpy>=1.11.3 in /usr/local/lib/python3.6/dist-packages (from category_encoders) (1.17.4)\n",
            "Requirement already satisfied: statsmodels>=0.6.1 in /usr/local/lib/python3.6/dist-packages (from category_encoders) (0.10.2)\n",
            "Requirement already satisfied: patsy>=0.4.1 in /usr/local/lib/python3.6/dist-packages (from category_encoders) (0.5.1)\n",
            "Requirement already satisfied: scipy>=0.19.0 in /usr/local/lib/python3.6/dist-packages (from category_encoders) (1.3.3)\n",
            "Requirement already satisfied: pandas>=0.21.1 in /usr/local/lib/python3.6/dist-packages (from category_encoders) (0.25.3)\n",
            "Requirement already satisfied: joblib>=0.11 in /usr/local/lib/python3.6/dist-packages (from scikit-learn>=0.20.0->category_encoders) (0.14.1)\n",
            "Requirement already satisfied: six in /usr/local/lib/python3.6/dist-packages (from patsy>=0.4.1->category_encoders) (1.12.0)\n",
            "Requirement already satisfied: pytz>=2017.2 in /usr/local/lib/python3.6/dist-packages (from pandas>=0.21.1->category_encoders) (2018.9)\n",
            "Requirement already satisfied: python-dateutil>=2.6.1 in /usr/local/lib/python3.6/dist-packages (from pandas>=0.21.1->category_encoders) (2.6.1)\n",
            "Installing collected packages: category-encoders\n",
            "Successfully installed category-encoders-2.1.0\n"
          ],
          "name": "stdout"
        }
      ]
    },
    {
      "cell_type": "code",
      "metadata": {
        "id": "TmEzlVajhntj",
        "colab_type": "code",
        "colab": {}
      },
      "source": [
        "import pandas as pd\n",
        "import numpy as np\n",
        "from sklearn.model_selection import train_test_split\n",
        "from sklearn.metrics import f1_score\n",
        "from sklearn.linear_model import LinearRegression\n",
        "from sklearn.pipeline import make_pipeline\n",
        "from sklearn.impute import SimpleImputer\n",
        "import category_encoders as ce\n",
        "import re"
      ],
      "execution_count": 0,
      "outputs": []
    },
    {
      "cell_type": "code",
      "metadata": {
        "id": "LTyDjCyUQGFc",
        "colab_type": "code",
        "colab": {}
      },
      "source": [
        "df = pd.read_csv('https://github.com/jamesluttringer2019/unit2build/raw/master/trafficsample.csv', low_memory=False)"
      ],
      "execution_count": 0,
      "outputs": []
    },
    {
      "cell_type": "code",
      "metadata": {
        "id": "jhSgzvBPhrR6",
        "colab_type": "code",
        "colab": {
          "base_uri": "https://localhost:8080/",
          "height": 34
        },
        "outputId": "7265a525-97d2-4a7a-fd6c-f94635806bc7"
      },
      "source": [
        "train, val = train_test_split(df, train_size=.8, test_size=.2, random_state=13)\n",
        "train.shape, val.shape"
      ],
      "execution_count": 220,
      "outputs": [
        {
          "output_type": "execute_result",
          "data": {
            "text/plain": [
              "((80000, 26), (20000, 26))"
            ]
          },
          "metadata": {
            "tags": []
          },
          "execution_count": 220
        }
      ]
    },
    {
      "cell_type": "code",
      "metadata": {
        "id": "wA-g6EQih7tE",
        "colab_type": "code",
        "colab": {}
      },
      "source": [
        "def wrangle(X):\n",
        "  #avoid copy warning\n",
        "  X = X.copy()\n",
        "\n",
        "  #round times to nearest 5 minute interval\n",
        "  times = []\n",
        "  for i in X['stop_time']:\n",
        "    i = str(i)  \n",
        "    if i == 'nan':\n",
        "      times.append(np.nan)\n",
        "    else:\n",
        "      if int(i[4]) < 3:\n",
        "        i = (i[:4] + '0')\n",
        "        times.append(i)\n",
        "      elif int(i[4]) in (range(3,8)):\n",
        "        i = (i[:4] + '5')\n",
        "        times.append(i)\n",
        "      else:\n",
        "        i = (i[:3] + str(int(i[3])+1) + '0')\n",
        "        times.append(i)\n",
        "    \n",
        "  X['stop_time'] = times\n",
        "\n",
        "  #create individual columns for year, month, and day\n",
        "  X['stop_date'] = pd.to_datetime(X['stop_date'])\n",
        "  X['year'] = X['stop_date'].dt.year\n",
        "  X['month'] = X['stop_date'].dt.month\n",
        "  X['day'] = X['stop_date'].dt.day\n",
        "\n",
        "  #Seperate vehicle make and year into their own columns\n",
        "  make = []\n",
        "  car_year = []\n",
        "  for vehicle in X['vehicle_type']:\n",
        "    make.append(re.search(r'^\\w+|$', vehicle)[0])\n",
        "    car_year.append(re.findall(r'\\d+|$', vehicle)[0])\n",
        "\n",
        "  X['vehicle_make'] = make\n",
        "  X['vehicle_year'] = car_year\n",
        "\n",
        "  #assume null for drugs_related_stop == false, replace values\n",
        "  X['drugs_related_stop'].replace({np.nan:'False'}, inplace=True)\n",
        "\n",
        "  #fill nulls in fine_grained_location\n",
        "  X['fine_grained_location'].replace({np.nan:0}, inplace=True)\n",
        "\n",
        "  #drop repetitive or unwanted columns\n",
        "  drop_cols = ['id','state','location_raw', 'county_name',\n",
        "             'county_fips','police_department','driver_race',\n",
        "             'violation', 'district', 'search_type_raw',\n",
        "             'stop_date', 'vehicle_type', 'is_arrested', 'search_type']\n",
        "  X = X.drop(drop_cols, axis=1) \n",
        "  return X"
      ],
      "execution_count": 0,
      "outputs": []
    },
    {
      "cell_type": "code",
      "metadata": {
        "id": "DgWeFYm-ijXD",
        "colab_type": "code",
        "colab": {}
      },
      "source": [
        "train = wrangle(train)\n",
        "val = wrangle(val)"
      ],
      "execution_count": 0,
      "outputs": []
    },
    {
      "cell_type": "code",
      "metadata": {
        "id": "qXSz2Tq56BPa",
        "colab_type": "code",
        "colab": {
          "base_uri": "https://localhost:8080/",
          "height": 605
        },
        "outputId": "5c7a2648-7dd8-45e7-cc11-93449defb7e3"
      },
      "source": [
        "#check nulls to make sure they will be ok to impute\n",
        "train.isnull().sum(), val.isnull().sum()"
      ],
      "execution_count": 217,
      "outputs": [
        {
          "output_type": "execute_result",
          "data": {
            "text/plain": [
              "(stop_time                   47\n",
              " fine_grained_location        0\n",
              " driver_gender                0\n",
              " driver_age_raw               0\n",
              " driver_age                  61\n",
              " driver_race_raw              0\n",
              " violation_raw                0\n",
              " search_conducted             0\n",
              " contraband_found             0\n",
              " stop_outcome                 0\n",
              " stop_duration            21889\n",
              " drugs_related_stop           0\n",
              " year                         0\n",
              " month                        0\n",
              " day                          0\n",
              " vehicle_make                 0\n",
              " vehicle_year                 0\n",
              " dtype: int64, stop_time                  13\n",
              " fine_grained_location       0\n",
              " driver_gender               0\n",
              " driver_age_raw              0\n",
              " driver_age                 18\n",
              " driver_race_raw             0\n",
              " violation_raw               0\n",
              " search_conducted            0\n",
              " contraband_found            0\n",
              " stop_outcome                0\n",
              " stop_duration            5433\n",
              " drugs_related_stop          0\n",
              " year                        0\n",
              " month                       0\n",
              " day                         0\n",
              " vehicle_make                0\n",
              " vehicle_year                0\n",
              " dtype: int64)"
            ]
          },
          "metadata": {
            "tags": []
          },
          "execution_count": 217
        }
      ]
    },
    {
      "cell_type": "code",
      "metadata": {
        "id": "Ta7FkyoK0RQk",
        "colab_type": "code",
        "colab": {
          "base_uri": "https://localhost:8080/",
          "height": 299
        },
        "outputId": "4653c3ec-a1c8-4b6c-b1b6-4c7ba24bcb5d"
      },
      "source": [
        "train.head()"
      ],
      "execution_count": 222,
      "outputs": [
        {
          "output_type": "execute_result",
          "data": {
            "text/html": [
              "<div>\n",
              "<style scoped>\n",
              "    .dataframe tbody tr th:only-of-type {\n",
              "        vertical-align: middle;\n",
              "    }\n",
              "\n",
              "    .dataframe tbody tr th {\n",
              "        vertical-align: top;\n",
              "    }\n",
              "\n",
              "    .dataframe thead th {\n",
              "        text-align: right;\n",
              "    }\n",
              "</style>\n",
              "<table border=\"1\" class=\"dataframe\">\n",
              "  <thead>\n",
              "    <tr style=\"text-align: right;\">\n",
              "      <th></th>\n",
              "      <th>stop_time</th>\n",
              "      <th>fine_grained_location</th>\n",
              "      <th>driver_gender</th>\n",
              "      <th>driver_age_raw</th>\n",
              "      <th>driver_age</th>\n",
              "      <th>driver_race_raw</th>\n",
              "      <th>violation_raw</th>\n",
              "      <th>search_conducted</th>\n",
              "      <th>contraband_found</th>\n",
              "      <th>stop_outcome</th>\n",
              "      <th>stop_duration</th>\n",
              "      <th>drugs_related_stop</th>\n",
              "      <th>year</th>\n",
              "      <th>month</th>\n",
              "      <th>day</th>\n",
              "      <th>vehicle_make</th>\n",
              "      <th>vehicle_year</th>\n",
              "    </tr>\n",
              "  </thead>\n",
              "  <tbody>\n",
              "    <tr>\n",
              "      <th>61975</th>\n",
              "      <td>08:40</td>\n",
              "      <td>7</td>\n",
              "      <td>M</td>\n",
              "      <td>1947.0</td>\n",
              "      <td>61.0</td>\n",
              "      <td>Caucasian</td>\n",
              "      <td>Moving Violation,Speed</td>\n",
              "      <td>False</td>\n",
              "      <td>False</td>\n",
              "      <td>Written Warning</td>\n",
              "      <td>15.0</td>\n",
              "      <td>False</td>\n",
              "      <td>2008</td>\n",
              "      <td>9</td>\n",
              "      <td>28</td>\n",
              "      <td>Toyo</td>\n",
              "      <td>1998</td>\n",
              "    </tr>\n",
              "    <tr>\n",
              "      <th>75905</th>\n",
              "      <td>21:15</td>\n",
              "      <td>10</td>\n",
              "      <td>F</td>\n",
              "      <td>1982.0</td>\n",
              "      <td>26.0</td>\n",
              "      <td>Caucasian</td>\n",
              "      <td>Moving Violation,Speed</td>\n",
              "      <td>False</td>\n",
              "      <td>False</td>\n",
              "      <td>Written Warning</td>\n",
              "      <td>9.0</td>\n",
              "      <td>False</td>\n",
              "      <td>2008</td>\n",
              "      <td>4</td>\n",
              "      <td>21</td>\n",
              "      <td>Chev</td>\n",
              "      <td>2001</td>\n",
              "    </tr>\n",
              "    <tr>\n",
              "      <th>90174</th>\n",
              "      <td>00:20</td>\n",
              "      <td>17</td>\n",
              "      <td>M</td>\n",
              "      <td>1976.0</td>\n",
              "      <td>31.0</td>\n",
              "      <td>African American</td>\n",
              "      <td>Moving Violation,Speed</td>\n",
              "      <td>False</td>\n",
              "      <td>False</td>\n",
              "      <td>Citation</td>\n",
              "      <td>14.0</td>\n",
              "      <td>False</td>\n",
              "      <td>2007</td>\n",
              "      <td>9</td>\n",
              "      <td>30</td>\n",
              "      <td>Linc</td>\n",
              "      <td>2003</td>\n",
              "    </tr>\n",
              "    <tr>\n",
              "      <th>60156</th>\n",
              "      <td>22:35</td>\n",
              "      <td>10</td>\n",
              "      <td>M</td>\n",
              "      <td>1990.0</td>\n",
              "      <td>24.0</td>\n",
              "      <td>Asian/Pacific Islander</td>\n",
              "      <td>Equipment,Not applicable</td>\n",
              "      <td>False</td>\n",
              "      <td>False</td>\n",
              "      <td>Written Warning</td>\n",
              "      <td>7.0</td>\n",
              "      <td>False</td>\n",
              "      <td>2014</td>\n",
              "      <td>5</td>\n",
              "      <td>17</td>\n",
              "      <td>Kia</td>\n",
              "      <td>2004</td>\n",
              "    </tr>\n",
              "    <tr>\n",
              "      <th>62373</th>\n",
              "      <td>02:10</td>\n",
              "      <td>15</td>\n",
              "      <td>M</td>\n",
              "      <td>1986.0</td>\n",
              "      <td>20.0</td>\n",
              "      <td>African American</td>\n",
              "      <td>Moving Violation,SeatBelt</td>\n",
              "      <td>False</td>\n",
              "      <td>False</td>\n",
              "      <td>Citation</td>\n",
              "      <td>NaN</td>\n",
              "      <td>False</td>\n",
              "      <td>2006</td>\n",
              "      <td>7</td>\n",
              "      <td>2</td>\n",
              "      <td>Satu</td>\n",
              "      <td>1994</td>\n",
              "    </tr>\n",
              "  </tbody>\n",
              "</table>\n",
              "</div>"
            ],
            "text/plain": [
              "      stop_time fine_grained_location  ... vehicle_make  vehicle_year\n",
              "61975     08:40                     7  ...         Toyo          1998\n",
              "75905     21:15                    10  ...         Chev          2001\n",
              "90174     00:20                    17  ...         Linc          2003\n",
              "60156     22:35                    10  ...          Kia          2004\n",
              "62373     02:10                    15  ...         Satu          1994\n",
              "\n",
              "[5 rows x 17 columns]"
            ]
          },
          "metadata": {
            "tags": []
          },
          "execution_count": 222
        }
      ]
    },
    {
      "cell_type": "code",
      "metadata": {
        "id": "2SrbZErQi74b",
        "colab_type": "code",
        "colab": {}
      },
      "source": [
        "#break into X matrices and y vectors\n",
        "target = 'driver_gender'\n",
        "features = train.columns.drop(target)\n",
        "\n",
        "X_train = train[features]\n",
        "y_train = train[target]\n",
        "\n",
        "X_val = val[features]\n",
        "y_val = val[target]"
      ],
      "execution_count": 0,
      "outputs": []
    },
    {
      "cell_type": "code",
      "metadata": {
        "id": "WzfMB5kG8TZ2",
        "colab_type": "code",
        "colab": {
          "base_uri": "https://localhost:8080/",
          "height": 87
        },
        "outputId": "4c0555db-5e79-4268-bdbb-8b69509933ce"
      },
      "source": [
        "#get baseline f1_score by guessing majority class\n",
        "y_pred = ['M'] * len(y_val)\n",
        "f1_score(y_val, y_pred, average='weighted')"
      ],
      "execution_count": 226,
      "outputs": [
        {
          "output_type": "stream",
          "text": [
            "/usr/local/lib/python3.6/dist-packages/sklearn/metrics/classification.py:1437: UndefinedMetricWarning: F-score is ill-defined and being set to 0.0 in labels with no predicted samples.\n",
            "  'precision', 'predicted', average, warn_for)\n"
          ],
          "name": "stderr"
        },
        {
          "output_type": "execute_result",
          "data": {
            "text/plain": [
              "0.5889985113041443"
            ]
          },
          "metadata": {
            "tags": []
          },
          "execution_count": 226
        }
      ]
    },
    {
      "cell_type": "code",
      "metadata": {
        "id": "967B7IilqWm_",
        "colab_type": "code",
        "colab": {}
      },
      "source": [
        "#create pipeline to fit model\n"
      ],
      "execution_count": 0,
      "outputs": []
    }
  ]
}